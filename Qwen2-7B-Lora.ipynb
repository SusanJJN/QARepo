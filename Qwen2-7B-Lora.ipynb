{
 "cells": [
  {
   "cell_type": "markdown",
   "id": "de53995b-32ed-4722-8cac-ba104c8efacb",
   "metadata": {},
   "source": [
    "# 导入环境"
   ]
  },
  {
   "cell_type": "code",
   "execution_count": 1,
   "id": "52fac949-4150-4091-b0c3-2968ab5e385c",
   "metadata": {
    "tags": []
   },
   "outputs": [],
   "source": [
    "from datasets import Dataset\n",
    "import pandas as pd\n",
    "from transformers import AutoTokenizer, AutoModelForCausalLM, DataCollatorForSeq2Seq, TrainingArguments, Trainer, GenerationConfig"
   ]
  },
  {
   "cell_type": "code",
   "execution_count": 2,
   "id": "e098d9eb",
   "metadata": {
    "tags": []
   },
   "outputs": [],
   "source": [
    "# 将JSON文件转换为CSV文件\n",
    "df = pd.read_json('dataset/example.json')\n",
    "ds = Dataset.from_pandas(df)"
   ]
  },
  {
   "cell_type": "code",
   "execution_count": 3,
   "id": "8ac92d42-efae-49b1-a00e-ccaa75b98938",
   "metadata": {
    "scrolled": true,
    "tags": []
   },
   "outputs": [
    {
     "data": {
      "text/plain": [
       "{'instruction': ['解析命令行参数用于训练分割模型是怎样运作的？',\n",
       "  '解析命令行参数用于训练分割模型是什么达成的？',\n",
       "  '解析命令行参数用于训练分割模型是如何完成的？'],\n",
       " 'input': [\"当前代码仓是一个Python项目，实现了对分割模型的训练。包含以下函数：[{'name': 'parse_args', 'code': '', 'file': 'python\\\\\\\\train.py', 'metadata': {'description': '解析命令行参数用于训练分割模型', 'logic_steps': ['1. 创建参数解析器并设置描述信息', '2. 添加必须的配置文件路径参数', '3. 添加可选的工作目录参数', '4. 添加是否从检查点恢复的选项', '5. 添加是否启用混合精度训练的选项', '6. 添加配置覆盖选项，允许修改配置文件中的特定设置', '7. 添加任务启动器类型选项', '8. 添加本地排名参数，支持分布式训练', '9. 解析输入的命令行参数', '10. 设置环境变量中的本地排名信息', '11. 返回解析后的所有参数']}}, {'name': 'main', 'code': '', 'file': 'python\\\\\\\\train.py', 'metadata': {'description': '根据输入参数配置并启动训练过程', 'logic_steps': ['1. 解析输入参数', '2. 加载配置文件并根据参数调整配置', '3. 处理工作目录设置', '4. 配置自动混合精度训练选项', '5. 设置是否从检查点恢复训练', '6. 根据配置选择并初始化训练器', '7. 启动训练过程']}}]\",\n",
       "  \"当前代码仓是一个Python项目，实现了对分割模型的训练。包含以下函数：[{'name': 'parse_args', 'code': '', 'file': 'python\\\\\\\\train.py', 'metadata': {'description': '解析命令行参数用于训练分割模型', 'logic_steps': ['1. 创建参数解析器并设置描述信息', '2. 添加必须的配置文件路径参数', '3. 添加可选的工作目录参数', '4. 添加是否从检查点恢复的选项', '5. 添加是否启用混合精度训练的选项', '6. 添加配置覆盖选项，允许修改配置文件中的特定设置', '7. 添加任务启动器类型选项', '8. 添加本地排名参数，支持分布式训练', '9. 解析输入的命令行参数', '10. 设置环境变量中的本地排名信息', '11. 返回解析后的所有参数']}}, {'name': 'main', 'code': '', 'file': 'python\\\\\\\\train.py', 'metadata': {'description': '根据输入参数配置并启动训练过程', 'logic_steps': ['1. 解析输入参数', '2. 加载配置文件并根据参数调整配置', '3. 处理工作目录设置', '4. 配置自动混合精度训练选项', '5. 设置是否从检查点恢复训练', '6. 根据配置选择并初始化训练器', '7. 启动训练过程']}}]\",\n",
       "  \"当前代码仓是一个Python项目，实现了对分割模型的训练。包含以下函数：[{'name': 'parse_args', 'code': '', 'file': 'python\\\\\\\\train.py', 'metadata': {'description': '解析命令行参数用于训练分割模型', 'logic_steps': ['1. 创建参数解析器并设置描述信息', '2. 添加必须的配置文件路径参数', '3. 添加可选的工作目录参数', '4. 添加是否从检查点恢复的选项', '5. 添加是否启用混合精度训练的选项', '6. 添加配置覆盖选项，允许修改配置文件中的特定设置', '7. 添加任务启动器类型选项', '8. 添加本地排名参数，支持分布式训练', '9. 解析输入的命令行参数', '10. 设置环境变量中的本地排名信息', '11. 返回解析后的所有参数']}}, {'name': 'main', 'code': '', 'file': 'python\\\\\\\\train.py', 'metadata': {'description': '根据输入参数配置并启动训练过程', 'logic_steps': ['1. 解析输入参数', '2. 加载配置文件并根据参数调整配置', '3. 处理工作目录设置', '4. 配置自动混合精度训练选项', '5. 设置是否从检查点恢复训练', '6. 根据配置选择并初始化训练器', '7. 启动训练过程']}}]\"],\n",
       " 'output': ['解析命令行参数用于训练分割模型的实现方式：\\n• 实现函数：parse_args\\n• 文件位置：python\\\\train.py\\n• 实现步骤：\\n  - 1. 创建参数解析器并设置描述信息\\n  - 2. 添加必须的配置文件路径参数\\n  - 3. 添加可选的工作目录参数\\n  - 4. 添加是否从检查点恢复的选项\\n  - 5. 添加是否启用混合精度训练的选项\\n  - 6. 添加配置覆盖选项，允许修改配置文件中的特定设置\\n  - 7. 添加任务启动器类型选项\\n  - 8. 添加本地排名参数，支持分布式训练\\n  - 9. 解析输入的命令行参数\\n  - 10. 设置环境变量中的本地排名信息\\n  - 11. 返回解析后的所有参数\\n• 完整代码：\\n```python\\ndef parse_args():\\n    parser = argparse.ArgumentParser(description=\\'Train a segmentor\\')\\n    parser.add_argument(\\'config\\', help=\\'train config file path\\')\\n    parser.add_argument(\\'--work-dir\\', help=\\'the dir to save logs and models\\')\\n    parser.add_argument(\\'--resume\\', action=\\'store_true\\', default=False, help=\\'resume from the latest checkpoint in the work_dir automatically\\')\\n    parser.add_argument(\\'--amp\\', action=\\'store_true\\', default=False, help=\\'enable automatic-mixed-precision training\\')\\n    parser.add_argument(\\'--cfg-options\\', nargs=\\'+\\', action=DictAction, help=\\'override some settings in the used config, the key-value pair in xxx=yyy format will be merged into config file. If the value to be overwritten is a list, it should be like key=\"[a,b]\" or key=a,b It also allows nested list/tuple values, e.g. key=\"[(a,b),(c,d)]\" Note that the quotation marks are necessary and that no white space is allowed.\\')\\n    parser.add_argument(\\'--launcher\\', choices=[\\'none\\', \\'pytorch\\', \\'slurm\\', \\'mpi\\'], default=\\'none\\', help=\\'job launcher\\')\\n    parser.add_argument(\\'--local_rank\\', \\'--local-rank\\', type=int, default=0)\\n    args = parser.parse_args()\\n    if (\\'LOCAL_RANK\\' not in os.environ):\\n        os.environ[\\'LOCAL_RANK\\'] = str(args.local_rank)\\n    return args\\n```',\n",
       "  '解析命令行参数用于训练分割模型的实现方式：\\n• 实现函数：parse_args\\n• 文件位置：python\\\\train.py\\n• 实现步骤：\\n  - 1. 创建参数解析器并设置描述信息\\n  - 2. 添加必须的配置文件路径参数\\n  - 3. 添加可选的工作目录参数\\n  - 4. 添加是否从检查点恢复的选项\\n  - 5. 添加是否启用混合精度训练的选项\\n  - 6. 添加配置覆盖选项，允许修改配置文件中的特定设置\\n  - 7. 添加任务启动器类型选项\\n  - 8. 添加本地排名参数，支持分布式训练\\n  - 9. 解析输入的命令行参数\\n  - 10. 设置环境变量中的本地排名信息\\n  - 11. 返回解析后的所有参数\\n• 完整代码：\\n```python\\ndef parse_args():\\n    parser = argparse.ArgumentParser(description=\\'Train a segmentor\\')\\n    parser.add_argument(\\'config\\', help=\\'train config file path\\')\\n    parser.add_argument(\\'--work-dir\\', help=\\'the dir to save logs and models\\')\\n    parser.add_argument(\\'--resume\\', action=\\'store_true\\', default=False, help=\\'resume from the latest checkpoint in the work_dir automatically\\')\\n    parser.add_argument(\\'--amp\\', action=\\'store_true\\', default=False, help=\\'enable automatic-mixed-precision training\\')\\n    parser.add_argument(\\'--cfg-options\\', nargs=\\'+\\', action=DictAction, help=\\'override some settings in the used config, the key-value pair in xxx=yyy format will be merged into config file. If the value to be overwritten is a list, it should be like key=\"[a,b]\" or key=a,b It also allows nested list/tuple values, e.g. key=\"[(a,b),(c,d)]\" Note that the quotation marks are necessary and that no white space is allowed.\\')\\n    parser.add_argument(\\'--launcher\\', choices=[\\'none\\', \\'pytorch\\', \\'slurm\\', \\'mpi\\'], default=\\'none\\', help=\\'job launcher\\')\\n    parser.add_argument(\\'--local_rank\\', \\'--local-rank\\', type=int, default=0)\\n    args = parser.parse_args()\\n    if (\\'LOCAL_RANK\\' not in os.environ):\\n        os.environ[\\'LOCAL_RANK\\'] = str(args.local_rank)\\n    return args\\n```',\n",
       "  '解析命令行参数用于训练分割模型的实现方式：\\n• 实现函数：parse_args\\n• 文件位置：python\\\\train.py\\n• 实现步骤：\\n  - 1. 创建参数解析器并设置描述信息\\n  - 2. 添加必须的配置文件路径参数\\n  - 3. 添加可选的工作目录参数\\n  - 4. 添加是否从检查点恢复的选项\\n  - 5. 添加是否启用混合精度训练的选项\\n  - 6. 添加配置覆盖选项，允许修改配置文件中的特定设置\\n  - 7. 添加任务启动器类型选项\\n  - 8. 添加本地排名参数，支持分布式训练\\n  - 9. 解析输入的命令行参数\\n  - 10. 设置环境变量中的本地排名信息\\n  - 11. 返回解析后的所有参数\\n• 完整代码：\\n```python\\ndef parse_args():\\n    parser = argparse.ArgumentParser(description=\\'Train a segmentor\\')\\n    parser.add_argument(\\'config\\', help=\\'train config file path\\')\\n    parser.add_argument(\\'--work-dir\\', help=\\'the dir to save logs and models\\')\\n    parser.add_argument(\\'--resume\\', action=\\'store_true\\', default=False, help=\\'resume from the latest checkpoint in the work_dir automatically\\')\\n    parser.add_argument(\\'--amp\\', action=\\'store_true\\', default=False, help=\\'enable automatic-mixed-precision training\\')\\n    parser.add_argument(\\'--cfg-options\\', nargs=\\'+\\', action=DictAction, help=\\'override some settings in the used config, the key-value pair in xxx=yyy format will be merged into config file. If the value to be overwritten is a list, it should be like key=\"[a,b]\" or key=a,b It also allows nested list/tuple values, e.g. key=\"[(a,b),(c,d)]\" Note that the quotation marks are necessary and that no white space is allowed.\\')\\n    parser.add_argument(\\'--launcher\\', choices=[\\'none\\', \\'pytorch\\', \\'slurm\\', \\'mpi\\'], default=\\'none\\', help=\\'job launcher\\')\\n    parser.add_argument(\\'--local_rank\\', \\'--local-rank\\', type=int, default=0)\\n    args = parser.parse_args()\\n    if (\\'LOCAL_RANK\\' not in os.environ):\\n        os.environ[\\'LOCAL_RANK\\'] = str(args.local_rank)\\n    return args\\n```']}"
      ]
     },
     "execution_count": 3,
     "metadata": {},
     "output_type": "execute_result"
    }
   ],
   "source": [
    "ds[:3]"
   ]
  },
  {
   "cell_type": "markdown",
   "id": "51d05e5d-d14e-4f03-92be-9a9677d41918",
   "metadata": {},
   "source": [
    "# 处理数据集"
   ]
  },
  {
   "cell_type": "code",
   "execution_count": 4,
   "id": "74ee5a67-2e55-4974-b90e-cbf492de500a",
   "metadata": {
    "tags": []
   },
   "outputs": [
    {
     "data": {
      "text/plain": [
       "Qwen2Tokenizer(name_or_path='/root/autodl-tmp/qwen/Qwen2.5-7B-Instruct', vocab_size=151643, model_max_length=131072, is_fast=False, padding_side='right', truncation_side='right', special_tokens={'eos_token': '<|im_end|>', 'pad_token': '<|endoftext|>', 'additional_special_tokens': ['<|im_start|>', '<|im_end|>', '<|object_ref_start|>', '<|object_ref_end|>', '<|box_start|>', '<|box_end|>', '<|quad_start|>', '<|quad_end|>', '<|vision_start|>', '<|vision_end|>', '<|vision_pad|>', '<|image_pad|>', '<|video_pad|>']}, clean_up_tokenization_spaces=False),  added_tokens_decoder={\n",
       "\t151643: AddedToken(\"<|endoftext|>\", rstrip=False, lstrip=False, single_word=False, normalized=False, special=True),\n",
       "\t151644: AddedToken(\"<|im_start|>\", rstrip=False, lstrip=False, single_word=False, normalized=False, special=True),\n",
       "\t151645: AddedToken(\"<|im_end|>\", rstrip=False, lstrip=False, single_word=False, normalized=False, special=True),\n",
       "\t151646: AddedToken(\"<|object_ref_start|>\", rstrip=False, lstrip=False, single_word=False, normalized=False, special=True),\n",
       "\t151647: AddedToken(\"<|object_ref_end|>\", rstrip=False, lstrip=False, single_word=False, normalized=False, special=True),\n",
       "\t151648: AddedToken(\"<|box_start|>\", rstrip=False, lstrip=False, single_word=False, normalized=False, special=True),\n",
       "\t151649: AddedToken(\"<|box_end|>\", rstrip=False, lstrip=False, single_word=False, normalized=False, special=True),\n",
       "\t151650: AddedToken(\"<|quad_start|>\", rstrip=False, lstrip=False, single_word=False, normalized=False, special=True),\n",
       "\t151651: AddedToken(\"<|quad_end|>\", rstrip=False, lstrip=False, single_word=False, normalized=False, special=True),\n",
       "\t151652: AddedToken(\"<|vision_start|>\", rstrip=False, lstrip=False, single_word=False, normalized=False, special=True),\n",
       "\t151653: AddedToken(\"<|vision_end|>\", rstrip=False, lstrip=False, single_word=False, normalized=False, special=True),\n",
       "\t151654: AddedToken(\"<|vision_pad|>\", rstrip=False, lstrip=False, single_word=False, normalized=False, special=True),\n",
       "\t151655: AddedToken(\"<|image_pad|>\", rstrip=False, lstrip=False, single_word=False, normalized=False, special=True),\n",
       "\t151656: AddedToken(\"<|video_pad|>\", rstrip=False, lstrip=False, single_word=False, normalized=False, special=True),\n",
       "\t151657: AddedToken(\"<tool_call>\", rstrip=False, lstrip=False, single_word=False, normalized=False, special=False),\n",
       "\t151658: AddedToken(\"</tool_call>\", rstrip=False, lstrip=False, single_word=False, normalized=False, special=False),\n",
       "\t151659: AddedToken(\"<|fim_prefix|>\", rstrip=False, lstrip=False, single_word=False, normalized=False, special=False),\n",
       "\t151660: AddedToken(\"<|fim_middle|>\", rstrip=False, lstrip=False, single_word=False, normalized=False, special=False),\n",
       "\t151661: AddedToken(\"<|fim_suffix|>\", rstrip=False, lstrip=False, single_word=False, normalized=False, special=False),\n",
       "\t151662: AddedToken(\"<|fim_pad|>\", rstrip=False, lstrip=False, single_word=False, normalized=False, special=False),\n",
       "\t151663: AddedToken(\"<|repo_name|>\", rstrip=False, lstrip=False, single_word=False, normalized=False, special=False),\n",
       "\t151664: AddedToken(\"<|file_sep|>\", rstrip=False, lstrip=False, single_word=False, normalized=False, special=False),\n",
       "}"
      ]
     },
     "execution_count": 4,
     "metadata": {},
     "output_type": "execute_result"
    }
   ],
   "source": [
    "tokenizer = AutoTokenizer.from_pretrained('/root/autodl-tmp/qwen/Qwen2.5-7B-Instruct', use_fast=False, trust_remote_code=True)\n",
    "tokenizer"
   ]
  },
  {
   "cell_type": "code",
   "execution_count": 5,
   "id": "2503a5fa-9621-4495-9035-8e7ef6525691",
   "metadata": {
    "tags": []
   },
   "outputs": [],
   "source": [
    "def process_func(example):\n",
    "    MAX_LENGTH = 3840    # Llama分词器会将一个中文字切分为多个token，因此需要放开一些最大长度，保证数据的完整性\n",
    "    input_ids, attention_mask, labels = [], [], []\n",
    "    instruction = tokenizer(f\"<|im_start|>system\\n你是一个代码专家，请根据以下信息回答问题<|im_end|>\\n<|im_start|>user\\n{example['instruction'] + example['input']}<|im_end|>\\n<|im_start|>assistant\\n\", add_special_tokens=False)  # add_special_tokens 不在开头加 special_tokens\n",
    "    response = tokenizer(f\"{example['output']}\", add_special_tokens=False)\n",
    "    input_ids = instruction[\"input_ids\"] + response[\"input_ids\"] + [tokenizer.pad_token_id]\n",
    "    attention_mask = instruction[\"attention_mask\"] + response[\"attention_mask\"] + [1]  # 因为eos token咱们也是要关注的所以 补充为1\n",
    "    labels = [-100] * len(instruction[\"input_ids\"]) + response[\"input_ids\"] + [tokenizer.pad_token_id]  \n",
    "    if len(input_ids) > MAX_LENGTH:  # 做一个截断\n",
    "        input_ids = input_ids[:MAX_LENGTH]\n",
    "        attention_mask = attention_mask[:MAX_LENGTH]\n",
    "        labels = labels[:MAX_LENGTH]\n",
    "    return {\n",
    "        \"input_ids\": input_ids,\n",
    "        \"attention_mask\": attention_mask,\n",
    "        \"labels\": labels\n",
    "    }"
   ]
  },
  {
   "cell_type": "code",
   "execution_count": 6,
   "id": "84f870d6-73a9-4b0f-8abf-687b32224ad8",
   "metadata": {
    "tags": []
   },
   "outputs": [
    {
     "data": {
      "application/vnd.jupyter.widget-view+json": {
       "model_id": "b5ade77adb0b49c8aa799f137b33b102",
       "version_major": 2,
       "version_minor": 0
      },
      "text/plain": [
       "Map:   0%|          | 0/26 [00:00<?, ? examples/s]"
      ]
     },
     "metadata": {},
     "output_type": "display_data"
    },
    {
     "data": {
      "text/plain": [
       "Dataset({\n",
       "    features: ['input_ids', 'attention_mask', 'labels'],\n",
       "    num_rows: 26\n",
       "})"
      ]
     },
     "execution_count": 6,
     "metadata": {},
     "output_type": "execute_result"
    }
   ],
   "source": [
    "tokenized_id = ds.map(process_func, remove_columns=ds.column_names)\n",
    "tokenized_id"
   ]
  },
  {
   "cell_type": "code",
   "execution_count": 7,
   "id": "1f7e15a0-4d9a-4935-9861-00cc472654b1",
   "metadata": {
    "tags": []
   },
   "outputs": [
    {
     "data": {
      "text/plain": [
       "'<|im_start|>system\\n你是一个代码专家，请根据以下信息回答问题<|im_end|>\\n<|im_start|>user\\n解析命令行参数用于训练分割模型是怎样运作的？当前代码仓是一个Python项目，实现了对分割模型的训练。包含以下函数：[{\\'name\\': \\'parse_args\\', \\'code\\': \\'\\', \\'file\\': \\'python\\\\\\\\train.py\\', \\'metadata\\': {\\'description\\': \\'解析命令行参数用于训练分割模型\\', \\'logic_steps\\': [\\'1. 创建参数解析器并设置描述信息\\', \\'2. 添加必须的配置文件路径参数\\', \\'3. 添加可选的工作目录参数\\', \\'4. 添加是否从检查点恢复的选项\\', \\'5. 添加是否启用混合精度训练的选项\\', \\'6. 添加配置覆盖选项，允许修改配置文件中的特定设置\\', \\'7. 添加任务启动器类型选项\\', \\'8. 添加本地排名参数，支持分布式训练\\', \\'9. 解析输入的命令行参数\\', \\'10. 设置环境变量中的本地排名信息\\', \\'11. 返回解析后的所有参数\\']}}, {\\'name\\': \\'main\\', \\'code\\': \\'\\', \\'file\\': \\'python\\\\\\\\train.py\\', \\'metadata\\': {\\'description\\': \\'根据输入参数配置并启动训练过程\\', \\'logic_steps\\': [\\'1. 解析输入参数\\', \\'2. 加载配置文件并根据参数调整配置\\', \\'3. 处理工作目录设置\\', \\'4. 配置自动混合精度训练选项\\', \\'5. 设置是否从检查点恢复训练\\', \\'6. 根据配置选择并初始化训练器\\', \\'7. 启动训练过程\\']}}]<|im_end|>\\n<|im_start|>assistant\\n解析命令行参数用于训练分割模型的实现方式：\\n• 实现函数：parse_args\\n• 文件位置：python\\\\train.py\\n• 实现步骤：\\n  - 1. 创建参数解析器并设置描述信息\\n  - 2. 添加必须的配置文件路径参数\\n  - 3. 添加可选的工作目录参数\\n  - 4. 添加是否从检查点恢复的选项\\n  - 5. 添加是否启用混合精度训练的选项\\n  - 6. 添加配置覆盖选项，允许修改配置文件中的特定设置\\n  - 7. 添加任务启动器类型选项\\n  - 8. 添加本地排名参数，支持分布式训练\\n  - 9. 解析输入的命令行参数\\n  - 10. 设置环境变量中的本地排名信息\\n  - 11. 返回解析后的所有参数\\n• 完整代码：\\n```python\\ndef parse_args():\\n    parser = argparse.ArgumentParser(description=\\'Train a segmentor\\')\\n    parser.add_argument(\\'config\\', help=\\'train config file path\\')\\n    parser.add_argument(\\'--work-dir\\', help=\\'the dir to save logs and models\\')\\n    parser.add_argument(\\'--resume\\', action=\\'store_true\\', default=False, help=\\'resume from the latest checkpoint in the work_dir automatically\\')\\n    parser.add_argument(\\'--amp\\', action=\\'store_true\\', default=False, help=\\'enable automatic-mixed-precision training\\')\\n    parser.add_argument(\\'--cfg-options\\', nargs=\\'+\\', action=DictAction, help=\\'override some settings in the used config, the key-value pair in xxx=yyy format will be merged into config file. If the value to be overwritten is a list, it should be like key=\"[a,b]\" or key=a,b It also allows nested list/tuple values, e.g. key=\"[(a,b),(c,d)]\" Note that the quotation marks are necessary and that no white space is allowed.\\')\\n    parser.add_argument(\\'--launcher\\', choices=[\\'none\\', \\'pytorch\\', \\'slurm\\', \\'mpi\\'], default=\\'none\\', help=\\'job launcher\\')\\n    parser.add_argument(\\'--local_rank\\', \\'--local-rank\\', type=int, default=0)\\n    args = parser.parse_args()\\n    if (\\'LOCAL_RANK\\' not in os.environ):\\n        os.environ[\\'LOCAL_RANK\\'] = str(args.local_rank)\\n    return args\\n```<|endoftext|>'"
      ]
     },
     "execution_count": 7,
     "metadata": {},
     "output_type": "execute_result"
    }
   ],
   "source": [
    "tokenizer.decode(tokenized_id[0]['input_ids'])"
   ]
  },
  {
   "cell_type": "code",
   "execution_count": 8,
   "id": "97f16f66-324a-454f-8cc3-ef23b100ecff",
   "metadata": {
    "tags": []
   },
   "outputs": [
    {
     "data": {
      "text/plain": [
       "'解析命令行参数用于训练分割模型的实现方式：\\n• 实现函数：parse_args\\n• 文件位置：python\\\\train.py\\n• 实现步骤：\\n  - 1. 创建参数解析器并设置描述信息\\n  - 2. 添加必须的配置文件路径参数\\n  - 3. 添加可选的工作目录参数\\n  - 4. 添加是否从检查点恢复的选项\\n  - 5. 添加是否启用混合精度训练的选项\\n  - 6. 添加配置覆盖选项，允许修改配置文件中的特定设置\\n  - 7. 添加任务启动器类型选项\\n  - 8. 添加本地排名参数，支持分布式训练\\n  - 9. 解析输入的命令行参数\\n  - 10. 设置环境变量中的本地排名信息\\n  - 11. 返回解析后的所有参数\\n• 完整代码：\\n```python\\ndef parse_args():\\n    parser = argparse.ArgumentParser(description=\\'Train a segmentor\\')\\n    parser.add_argument(\\'config\\', help=\\'train config file path\\')\\n    parser.add_argument(\\'--work-dir\\', help=\\'the dir to save logs and models\\')\\n    parser.add_argument(\\'--resume\\', action=\\'store_true\\', default=False, help=\\'resume from the latest checkpoint in the work_dir automatically\\')\\n    parser.add_argument(\\'--amp\\', action=\\'store_true\\', default=False, help=\\'enable automatic-mixed-precision training\\')\\n    parser.add_argument(\\'--cfg-options\\', nargs=\\'+\\', action=DictAction, help=\\'override some settings in the used config, the key-value pair in xxx=yyy format will be merged into config file. If the value to be overwritten is a list, it should be like key=\"[a,b]\" or key=a,b It also allows nested list/tuple values, e.g. key=\"[(a,b),(c,d)]\" Note that the quotation marks are necessary and that no white space is allowed.\\')\\n    parser.add_argument(\\'--launcher\\', choices=[\\'none\\', \\'pytorch\\', \\'slurm\\', \\'mpi\\'], default=\\'none\\', help=\\'job launcher\\')\\n    parser.add_argument(\\'--local_rank\\', \\'--local-rank\\', type=int, default=0)\\n    args = parser.parse_args()\\n    if (\\'LOCAL_RANK\\' not in os.environ):\\n        os.environ[\\'LOCAL_RANK\\'] = str(args.local_rank)\\n    return args\\n```<|endoftext|>'"
      ]
     },
     "execution_count": 8,
     "metadata": {},
     "output_type": "execute_result"
    }
   ],
   "source": [
    "tokenizer.decode(list(filter(lambda x: x != -100, tokenized_id[1][\"labels\"])))"
   ]
  },
  {
   "cell_type": "markdown",
   "id": "424823a8-ed0d-4309-83c8-3f6b1cdf274c",
   "metadata": {},
   "source": [
    "# 创建模型"
   ]
  },
  {
   "cell_type": "code",
   "execution_count": 2,
   "id": "170764e5-d899-4ef4-8c53-36f6dec0d198",
   "metadata": {
    "tags": []
   },
   "outputs": [
    {
     "data": {
      "application/vnd.jupyter.widget-view+json": {
       "model_id": "8221243c9189486bbd8e57187d5b4322",
       "version_major": 2,
       "version_minor": 0
      },
      "text/plain": [
       "Loading checkpoint shards:   0%|          | 0/4 [00:00<?, ?it/s]"
      ]
     },
     "metadata": {},
     "output_type": "display_data"
    },
    {
     "data": {
      "text/plain": [
       "Qwen2ForCausalLM(\n",
       "  (model): Qwen2Model(\n",
       "    (embed_tokens): Embedding(152064, 3584)\n",
       "    (layers): ModuleList(\n",
       "      (0-27): 28 x Qwen2DecoderLayer(\n",
       "        (self_attn): Qwen2SdpaAttention(\n",
       "          (q_proj): Linear(in_features=3584, out_features=3584, bias=True)\n",
       "          (k_proj): Linear(in_features=3584, out_features=512, bias=True)\n",
       "          (v_proj): Linear(in_features=3584, out_features=512, bias=True)\n",
       "          (o_proj): Linear(in_features=3584, out_features=3584, bias=False)\n",
       "          (rotary_emb): Qwen2RotaryEmbedding()\n",
       "        )\n",
       "        (mlp): Qwen2MLP(\n",
       "          (gate_proj): Linear(in_features=3584, out_features=18944, bias=False)\n",
       "          (up_proj): Linear(in_features=3584, out_features=18944, bias=False)\n",
       "          (down_proj): Linear(in_features=18944, out_features=3584, bias=False)\n",
       "          (act_fn): SiLU()\n",
       "        )\n",
       "        (input_layernorm): Qwen2RMSNorm((3584,), eps=1e-06)\n",
       "        (post_attention_layernorm): Qwen2RMSNorm((3584,), eps=1e-06)\n",
       "      )\n",
       "    )\n",
       "    (norm): Qwen2RMSNorm((3584,), eps=1e-06)\n",
       "  )\n",
       "  (lm_head): Linear(in_features=3584, out_features=152064, bias=False)\n",
       ")"
      ]
     },
     "execution_count": 2,
     "metadata": {},
     "output_type": "execute_result"
    }
   ],
   "source": [
    "import torch\n",
    "\n",
    "model = AutoModelForCausalLM.from_pretrained('/root/autodl-tmp/qwen/Qwen2.5-7B-Instruct', device_map=\"auto\",torch_dtype=torch.bfloat16)\n",
    "model"
   ]
  },
  {
   "cell_type": "code",
   "execution_count": 3,
   "id": "2323eac7-37d5-4288-8bc5-79fac7113402",
   "metadata": {
    "tags": []
   },
   "outputs": [],
   "source": [
    "model.enable_input_require_grads() # 开启梯度检查点时，要执行该方法"
   ]
  },
  {
   "cell_type": "code",
   "execution_count": 4,
   "id": "f808b05c-f2cb-48cf-a80d-0c42be6051c7",
   "metadata": {
    "tags": []
   },
   "outputs": [
    {
     "data": {
      "text/plain": [
       "torch.bfloat16"
      ]
     },
     "execution_count": 4,
     "metadata": {},
     "output_type": "execute_result"
    }
   ],
   "source": [
    "model.dtype"
   ]
  },
  {
   "cell_type": "markdown",
   "id": "13d71257-3c1c-4303-8ff8-af161ebc2cf1",
   "metadata": {},
   "source": [
    "# lora "
   ]
  },
  {
   "cell_type": "code",
   "execution_count": 5,
   "id": "2d304ae2-ab60-4080-a80d-19cac2e3ade3",
   "metadata": {
    "tags": []
   },
   "outputs": [
    {
     "data": {
      "text/plain": [
       "LoraConfig(peft_type=<PeftType.LORA: 'LORA'>, auto_mapping=None, base_model_name_or_path=None, revision=None, task_type=<TaskType.CAUSAL_LM: 'CAUSAL_LM'>, inference_mode=False, r=8, target_modules={'down_proj', 'o_proj', 'up_proj', 'k_proj', 'gate_proj', 'v_proj', 'q_proj'}, lora_alpha=32, lora_dropout=0.1, fan_in_fan_out=False, bias='none', use_rslora=False, modules_to_save=None, init_lora_weights=True, layers_to_transform=None, layers_pattern=None, rank_pattern={}, alpha_pattern={}, megatron_config=None, megatron_core='megatron.core', loftq_config={}, use_dora=False, layer_replication=None)"
      ]
     },
     "execution_count": 5,
     "metadata": {},
     "output_type": "execute_result"
    }
   ],
   "source": [
    "from peft import LoraConfig, TaskType, get_peft_model\n",
    "\n",
    "config = LoraConfig(\n",
    "    task_type=TaskType.CAUSAL_LM, \n",
    "    target_modules=[\"q_proj\", \"k_proj\", \"v_proj\", \"o_proj\", \"gate_proj\", \"up_proj\", \"down_proj\"],\n",
    "    inference_mode=False, # 训练模式\n",
    "    r=8, # Lora 秩\n",
    "    lora_alpha=32, # Lora alaph，具体作用参见 Lora 原理\n",
    "    lora_dropout=0.1# Dropout 比例\n",
    ")\n",
    "config"
   ]
  },
  {
   "cell_type": "code",
   "execution_count": 6,
   "id": "2c2489c5-eaab-4e1f-b06a-c3f914b4bf8e",
   "metadata": {
    "tags": []
   },
   "outputs": [
    {
     "data": {
      "text/plain": [
       "LoraConfig(peft_type=<PeftType.LORA: 'LORA'>, auto_mapping=None, base_model_name_or_path='/root/autodl-tmp/qwen/Qwen2.5-7B-Instruct', revision=None, task_type=<TaskType.CAUSAL_LM: 'CAUSAL_LM'>, inference_mode=False, r=8, target_modules={'down_proj', 'o_proj', 'up_proj', 'k_proj', 'gate_proj', 'v_proj', 'q_proj'}, lora_alpha=32, lora_dropout=0.1, fan_in_fan_out=False, bias='none', use_rslora=False, modules_to_save=None, init_lora_weights=True, layers_to_transform=None, layers_pattern=None, rank_pattern={}, alpha_pattern={}, megatron_config=None, megatron_core='megatron.core', loftq_config={}, use_dora=False, layer_replication=None)"
      ]
     },
     "execution_count": 6,
     "metadata": {},
     "output_type": "execute_result"
    }
   ],
   "source": [
    "model = get_peft_model(model, config)\n",
    "config"
   ]
  },
  {
   "cell_type": "code",
   "execution_count": 7,
   "id": "ebf5482b-fab9-4eb3-ad88-c116def4be12",
   "metadata": {
    "tags": []
   },
   "outputs": [
    {
     "name": "stdout",
     "output_type": "stream",
     "text": [
      "trainable params: 20,185,088 || all params: 7,635,801,600 || trainable%: 0.26434798934534914\n"
     ]
    }
   ],
   "source": [
    "model.print_trainable_parameters()"
   ]
  },
  {
   "cell_type": "markdown",
   "id": "ca055683-837f-4865-9c57-9164ba60c00f",
   "metadata": {},
   "source": [
    "# 配置训练参数"
   ]
  },
  {
   "cell_type": "code",
   "execution_count": 15,
   "id": "7e76bbff-15fd-4995-a61d-8364dc5e9ea0",
   "metadata": {
    "tags": []
   },
   "outputs": [],
   "source": [
    "args = TrainingArguments(\n",
    "    output_dir=\"./output/example\",\n",
    "    per_device_train_batch_size=2,\n",
    "    gradient_accumulation_steps=4,\n",
    "    logging_steps=10,\n",
    "    num_train_epochs=100,\n",
    "    save_steps=100, \n",
    "    learning_rate=1e-4,\n",
    "    save_on_each_node=True,\n",
    "    gradient_checkpointing=True\n",
    ")"
   ]
  },
  {
   "cell_type": "code",
   "execution_count": 16,
   "id": "f142cb9c-ad99-48e6-ba86-6df198f9ed96",
   "metadata": {
    "tags": []
   },
   "outputs": [],
   "source": [
    "trainer = Trainer(\n",
    "    model=model,\n",
    "    args=args,\n",
    "    train_dataset=tokenized_id,\n",
    "    data_collator=DataCollatorForSeq2Seq(tokenizer=tokenizer, padding=True),\n",
    ")"
   ]
  },
  {
   "cell_type": "code",
   "execution_count": 17,
   "id": "aec9bc36-b297-45af-99e1-d4c4d82be081",
   "metadata": {
    "scrolled": true,
    "tags": []
   },
   "outputs": [
    {
     "name": "stderr",
     "output_type": "stream",
     "text": [
      "`use_cache=True` is incompatible with gradient checkpointing. Setting `use_cache=False`...\n",
      "/root/miniconda3/lib/python3.10/site-packages/torch/_dynamo/eval_frame.py:600: UserWarning: torch.utils.checkpoint: the use_reentrant parameter should be passed explicitly. In version 2.4 we will raise an exception if use_reentrant is not passed. use_reentrant=False is recommended, but if you need to preserve the current default behavior, you can pass use_reentrant=True. Refer to docs for more details on the differences between the two variants.\n",
      "  return fn(*args, **kwargs)\n",
      "/root/miniconda3/lib/python3.10/site-packages/torch/utils/checkpoint.py:295: FutureWarning: `torch.cpu.amp.autocast(args...)` is deprecated. Please use `torch.amp.autocast('cpu', args...)` instead.\n",
      "  with torch.enable_grad(), device_autocast_ctx, torch.cpu.amp.autocast(**ctx.cpu_autocast_kwargs):  # type: ignore[attr-defined]\n"
     ]
    },
    {
     "data": {
      "text/html": [
       "\n",
       "    <div>\n",
       "      \n",
       "      <progress value='300' max='300' style='width:300px; height:20px; vertical-align: middle;'></progress>\n",
       "      [300/300 13:34, Epoch 92/100]\n",
       "    </div>\n",
       "    <table border=\"1\" class=\"dataframe\">\n",
       "  <thead>\n",
       " <tr style=\"text-align: left;\">\n",
       "      <th>Step</th>\n",
       "      <th>Training Loss</th>\n",
       "    </tr>\n",
       "  </thead>\n",
       "  <tbody>\n",
       "    <tr>\n",
       "      <td>10</td>\n",
       "      <td>0.351900</td>\n",
       "    </tr>\n",
       "    <tr>\n",
       "      <td>20</td>\n",
       "      <td>0.059900</td>\n",
       "    </tr>\n",
       "    <tr>\n",
       "      <td>30</td>\n",
       "      <td>0.009200</td>\n",
       "    </tr>\n",
       "    <tr>\n",
       "      <td>40</td>\n",
       "      <td>0.001300</td>\n",
       "    </tr>\n",
       "    <tr>\n",
       "      <td>50</td>\n",
       "      <td>0.000400</td>\n",
       "    </tr>\n",
       "    <tr>\n",
       "      <td>60</td>\n",
       "      <td>0.000200</td>\n",
       "    </tr>\n",
       "    <tr>\n",
       "      <td>70</td>\n",
       "      <td>0.000100</td>\n",
       "    </tr>\n",
       "    <tr>\n",
       "      <td>80</td>\n",
       "      <td>0.000100</td>\n",
       "    </tr>\n",
       "    <tr>\n",
       "      <td>90</td>\n",
       "      <td>0.000100</td>\n",
       "    </tr>\n",
       "    <tr>\n",
       "      <td>100</td>\n",
       "      <td>0.000100</td>\n",
       "    </tr>\n",
       "    <tr>\n",
       "      <td>110</td>\n",
       "      <td>0.000100</td>\n",
       "    </tr>\n",
       "    <tr>\n",
       "      <td>120</td>\n",
       "      <td>0.000100</td>\n",
       "    </tr>\n",
       "    <tr>\n",
       "      <td>130</td>\n",
       "      <td>0.000100</td>\n",
       "    </tr>\n",
       "    <tr>\n",
       "      <td>140</td>\n",
       "      <td>0.000100</td>\n",
       "    </tr>\n",
       "    <tr>\n",
       "      <td>150</td>\n",
       "      <td>0.000100</td>\n",
       "    </tr>\n",
       "    <tr>\n",
       "      <td>160</td>\n",
       "      <td>0.000100</td>\n",
       "    </tr>\n",
       "    <tr>\n",
       "      <td>170</td>\n",
       "      <td>0.000100</td>\n",
       "    </tr>\n",
       "    <tr>\n",
       "      <td>180</td>\n",
       "      <td>0.000100</td>\n",
       "    </tr>\n",
       "    <tr>\n",
       "      <td>190</td>\n",
       "      <td>0.000100</td>\n",
       "    </tr>\n",
       "    <tr>\n",
       "      <td>200</td>\n",
       "      <td>0.000100</td>\n",
       "    </tr>\n",
       "    <tr>\n",
       "      <td>210</td>\n",
       "      <td>0.000100</td>\n",
       "    </tr>\n",
       "    <tr>\n",
       "      <td>220</td>\n",
       "      <td>0.000100</td>\n",
       "    </tr>\n",
       "    <tr>\n",
       "      <td>230</td>\n",
       "      <td>0.000100</td>\n",
       "    </tr>\n",
       "    <tr>\n",
       "      <td>240</td>\n",
       "      <td>0.000100</td>\n",
       "    </tr>\n",
       "    <tr>\n",
       "      <td>250</td>\n",
       "      <td>0.000100</td>\n",
       "    </tr>\n",
       "    <tr>\n",
       "      <td>260</td>\n",
       "      <td>0.000100</td>\n",
       "    </tr>\n",
       "    <tr>\n",
       "      <td>270</td>\n",
       "      <td>0.000100</td>\n",
       "    </tr>\n",
       "    <tr>\n",
       "      <td>280</td>\n",
       "      <td>0.000100</td>\n",
       "    </tr>\n",
       "    <tr>\n",
       "      <td>290</td>\n",
       "      <td>0.000100</td>\n",
       "    </tr>\n",
       "    <tr>\n",
       "      <td>300</td>\n",
       "      <td>0.000100</td>\n",
       "    </tr>\n",
       "  </tbody>\n",
       "</table><p>"
      ],
      "text/plain": [
       "<IPython.core.display.HTML object>"
      ]
     },
     "metadata": {},
     "output_type": "display_data"
    },
    {
     "name": "stderr",
     "output_type": "stream",
     "text": [
      "/root/miniconda3/lib/python3.10/site-packages/peft/utils/save_and_load.py:154: UserWarning: Could not find a config file in /root/autodl-tmp/qwen/Qwen2.5-7B-Instruct - will assume that the vocabulary was not modified.\n",
      "  warnings.warn(\n",
      "/root/miniconda3/lib/python3.10/site-packages/torch/_dynamo/eval_frame.py:600: UserWarning: torch.utils.checkpoint: the use_reentrant parameter should be passed explicitly. In version 2.4 we will raise an exception if use_reentrant is not passed. use_reentrant=False is recommended, but if you need to preserve the current default behavior, you can pass use_reentrant=True. Refer to docs for more details on the differences between the two variants.\n",
      "  return fn(*args, **kwargs)\n",
      "/root/miniconda3/lib/python3.10/site-packages/torch/utils/checkpoint.py:295: FutureWarning: `torch.cpu.amp.autocast(args...)` is deprecated. Please use `torch.amp.autocast('cpu', args...)` instead.\n",
      "  with torch.enable_grad(), device_autocast_ctx, torch.cpu.amp.autocast(**ctx.cpu_autocast_kwargs):  # type: ignore[attr-defined]\n",
      "/root/miniconda3/lib/python3.10/site-packages/peft/utils/save_and_load.py:154: UserWarning: Could not find a config file in /root/autodl-tmp/qwen/Qwen2.5-7B-Instruct - will assume that the vocabulary was not modified.\n",
      "  warnings.warn(\n",
      "/root/miniconda3/lib/python3.10/site-packages/torch/_dynamo/eval_frame.py:600: UserWarning: torch.utils.checkpoint: the use_reentrant parameter should be passed explicitly. In version 2.4 we will raise an exception if use_reentrant is not passed. use_reentrant=False is recommended, but if you need to preserve the current default behavior, you can pass use_reentrant=True. Refer to docs for more details on the differences between the two variants.\n",
      "  return fn(*args, **kwargs)\n",
      "/root/miniconda3/lib/python3.10/site-packages/torch/utils/checkpoint.py:295: FutureWarning: `torch.cpu.amp.autocast(args...)` is deprecated. Please use `torch.amp.autocast('cpu', args...)` instead.\n",
      "  with torch.enable_grad(), device_autocast_ctx, torch.cpu.amp.autocast(**ctx.cpu_autocast_kwargs):  # type: ignore[attr-defined]\n",
      "/root/miniconda3/lib/python3.10/site-packages/peft/utils/save_and_load.py:154: UserWarning: Could not find a config file in /root/autodl-tmp/qwen/Qwen2.5-7B-Instruct - will assume that the vocabulary was not modified.\n",
      "  warnings.warn(\n"
     ]
    },
    {
     "data": {
      "text/plain": [
       "TrainOutput(global_step=300, training_loss=0.014179153277849159, metrics={'train_runtime': 818.1081, 'train_samples_per_second': 3.178, 'train_steps_per_second': 0.367, 'total_flos': 7.929096117291418e+16, 'train_loss': 0.014179153277849159, 'epoch': 92.3076923076923})"
      ]
     },
     "execution_count": 17,
     "metadata": {},
     "output_type": "execute_result"
    }
   ],
   "source": [
    "trainer.train()"
   ]
  },
  {
   "cell_type": "markdown",
   "id": "8abb2327-458e-4e96-ac98-2141b5b97c8e",
   "metadata": {},
   "source": [
    "# 推理"
   ]
  },
  {
   "cell_type": "markdown",
   "id": "efdd60a0-5ec0-4e54-9f20-5b763e88b795",
   "metadata": {},
   "source": [
    "## 场景1提问"
   ]
  },
  {
   "cell_type": "code",
   "execution_count": 19,
   "id": "bd2a415a-a9ad-49ea-877f-243558a83bfc",
   "metadata": {
    "scrolled": true
   },
   "outputs": [
    {
     "data": {
      "application/vnd.jupyter.widget-view+json": {
       "model_id": "eed52e8bd8394be0bd5736a267d44405",
       "version_major": 2,
       "version_minor": 0
      },
      "text/plain": [
       "Loading checkpoint shards:   0%|          | 0/4 [00:00<?, ?it/s]"
      ]
     },
     "metadata": {},
     "output_type": "display_data"
    },
    {
     "name": "stdout",
     "output_type": "stream",
     "text": [
      "解析命令行参数用于训练分割模型的实现方式：\n",
      "• 实现函数：parse_args\n",
      "• 文件位置：python\\train.py\n",
      "• 实现步骤：\n",
      "  - 1. 创建参数解析器并设置描述信息\n",
      "  - 2. 添加必须的配置文件路径参数\n",
      "  - 3. 添加可选的工作目录参数\n",
      "  - 4. 添加是否从检查点恢复的选项\n",
      "  - 5. 添加是否启用混合精度训练的选项\n",
      "  - 6. 添加配置覆盖选项，允许修改配置文件中的特定设置\n",
      "  - 7. 添加任务启动器类型选项\n",
      "  - 8. 添加本地排名参数，支持分布式训练\n",
      "  - 9. 解析输入的命令行参数\n",
      "  - 10. 设置环境变量中的本地排名信息\n",
      "  - 11. 返回解析后的所有参数\n"
     ]
    }
   ],
   "source": [
    "from transformers import AutoModelForCausalLM, AutoTokenizer\n",
    "import torch\n",
    "from peft import PeftModel\n",
    "\n",
    "model_path = '/root/autodl-tmp/qwen/Qwen2.5-7B-Instruct/'\n",
    "lora_path = './output/example/checkpoint-300'\n",
    "input_content = \"当前代码仓是一个Python项目，实现了对分割模型的训练。包含以下函数：[{'name': 'parse_args', 'code': '', 'file': 'python\\\\train.py', 'metadata': {'description': '解析命令行参数用于训练分割模型', 'logic_steps': ['1. 创建参数解析器并设置描述信息', '2. 添加必须的配置文件路径参数', '3. 添加可选的工作目录参数', '4. 添加是否从检查点恢复的选项', '5. 添加是否启用混合精度训练的选项', '6. 添加配置覆盖选项，允许修改配置文件中的特定设置', '7. 添加任务启动器类型选项', '8. 添加本地排名参数，支持分布式训练', '9. 解析输入的命令行参数', '10. 设置环境变量中的本地排名信息', '11. 返回解析后的所有参数']}}, {'name': 'main', 'code': '', 'file': 'python\\\\train.py', 'metadata': {'description': '根据输入参数配置并启动训练过程', 'logic_steps': ['1. 解析输入参数', '2. 加载配置文件并根据参数调整配置', '3. 处理工作目录设置', '4. 配置自动混合精度训练选项', '5. 设置是否从检查点恢复训练', '6. 根据配置选择并初始化训练器', '7. 启动训练过程']}}]\"\n",
    "# 加载tokenizer\n",
    "tokenizer = AutoTokenizer.from_pretrained(model_path, trust_remote_code=True)\n",
    "\n",
    "# 加载模型\n",
    "model = AutoModelForCausalLM.from_pretrained(model_path, device_map=\"auto\",torch_dtype=torch.bfloat16, trust_remote_code=True).eval()\n",
    "\n",
    "# 加载lora权重\n",
    "model = PeftModel.from_pretrained(model, model_id=lora_path)\n",
    "\n",
    "prompt = \"解析命令行参数用于训练分割模型是如何完成的？\"\n",
    "inputs = tokenizer.apply_chat_template([{\"role\": \"user\", \"content\": \"你是一个代码专家，请根据以下信息回答问题\"},\n",
    "                                        {\"role\": \"user\", \"content\": input_content},\n",
    "                                        {\"role\": \"user\", \"content\": prompt}],\n",
    "                                       add_generation_prompt=True,\n",
    "                                       tokenize=True,\n",
    "                                       return_tensors=\"pt\",\n",
    "                                       return_dict=True\n",
    "                                       ).to('cpu')\n",
    "\n",
    "\n",
    "gen_kwargs = {\"max_length\": 2500, \"do_sample\": True, \"top_k\": 1}\n",
    "\n",
    "with torch.no_grad():\n",
    "    outputs = model.generate(**inputs, **gen_kwargs)\n",
    "    outputs = outputs[:, inputs['input_ids'].shape[1]:]\n",
    "    print(tokenizer.decode(outputs[0], skip_special_tokens=True))"
   ]
  },
  {
   "cell_type": "markdown",
   "id": "6723111b-c338-453c-a8c5-fb365073cb06",
   "metadata": {},
   "source": [
    "## 场景2提问"
   ]
  },
  {
   "cell_type": "code",
   "execution_count": 20,
   "id": "af2a9ad2-4077-4bd1-b81e-8b7b97136ac3",
   "metadata": {},
   "outputs": [
    {
     "name": "stdout",
     "output_type": "stream",
     "text": [
      "要实现训练完成后自动进行模型评估的功能，可以在训练结束后添加模型评估步骤。这通常包括加载测试数据集、计算模型在测试集上的性能指标（如准确率、损失值等）。实现这一功能的步骤如下：\n",
      "\n",
      "  * 1. 在训练结束后添加模型评估的步骤；\n",
      "  * 2. 加载测试数据集；\n",
      "  * 3. 计算模型在测试集上的性能指标；\n",
      "  * 4. 将评估结果保存或显示给用户。\n",
      "\n",
      "实现方式：\n",
      "  * 通过添加命令行参数来控制是否执行评估步骤；\n",
      "  * 实现评估功能的函数；\n",
      "  * 在训练结束后调用评估函数；\n",
      "  * 完成后显示或保存评估结果。\n"
     ]
    }
   ],
   "source": [
    "prompt = \"如何增加训练完成后的自动模型评估功能\"\n",
    "inputs = tokenizer.apply_chat_template([{\"role\": \"user\", \"content\": \"你是一个代码专家，请根据以下信息回答问题\"},\n",
    "                                        {\"role\": \"user\", \"content\": input_content},\n",
    "                                        {\"role\": \"user\", \"content\": prompt}],\n",
    "                                       add_generation_prompt=True,\n",
    "                                       tokenize=True,\n",
    "                                       return_tensors=\"pt\",\n",
    "                                       return_dict=True\n",
    "                                       ).to('cpu')\n",
    "\n",
    "\n",
    "gen_kwargs = {\"max_length\": 2500, \"do_sample\": True, \"top_k\": 1}\n",
    "\n",
    "with torch.no_grad():\n",
    "    outputs = model.generate(**inputs, **gen_kwargs)\n",
    "    outputs = outputs[:, inputs['input_ids'].shape[1]:]\n",
    "    print(tokenizer.decode(outputs[0], skip_special_tokens=True))"
   ]
  },
  {
   "cell_type": "code",
   "execution_count": null,
   "id": "e9d29b09-a72f-45d2-9bc1-7be4458c5c3d",
   "metadata": {},
   "outputs": [],
   "source": []
  },
  {
   "cell_type": "code",
   "execution_count": null,
   "id": "41dfecd8-1327-439a-8967-a01aa262bd2f",
   "metadata": {},
   "outputs": [],
   "source": []
  }
 ],
 "metadata": {
  "kernelspec": {
   "display_name": "Python 3 (ipykernel)",
   "language": "python",
   "name": "python3"
  },
  "language_info": {
   "codemirror_mode": {
    "name": "ipython",
    "version": 3
   },
   "file_extension": ".py",
   "mimetype": "text/x-python",
   "name": "python",
   "nbconvert_exporter": "python",
   "pygments_lexer": "ipython3",
   "version": "3.10.8"
  }
 },
 "nbformat": 4,
 "nbformat_minor": 5
}
